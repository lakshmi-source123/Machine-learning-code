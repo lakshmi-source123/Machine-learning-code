{
  "nbformat": 4,
  "nbformat_minor": 0,
  "metadata": {
    "colab": {
      "provenance": []
    },
    "kernelspec": {
      "name": "python3",
      "display_name": "Python 3"
    },
    "language_info": {
      "name": "python"
    }
  },
  "cells": [
    {
      "cell_type": "code",
      "execution_count": null,
      "metadata": {
        "id": "QgVWDTs2b0mq"
      },
      "outputs": [],
      "source": [
        "1.NULL HYPOTHESIS(H0)\n",
        "\n",
        "NULL -\n",
        "a fruit company claims that the average weights of its apples is 150 grams you want to test if this claim is true\n",
        "\n",
        "step1=define the hypotheses\n",
        "null hypothesis(h0)=the avg weight of an apple is 150grms\n",
        "HO:MU=150\n",
        "ALTERNATE(H1):NOT EQUAL TO 150 GRAMS\n",
        "H1:MU != 150\n",
        "this is two tailed test since we are checking fpor a difference in both directions\n",
        "\n",
        "step2:\n",
        "choose a significant level(alpha)\n",
        "the significance level is the proability of rejecting H0 when it is actuall true\n",
        "common choices:0.05(5%)or 0.01(1%)\n",
        "we choose alpha=0.05\n",
        "\n",
        "step 3:\n",
        "collect a sample and calculate the sample mean\n",
        "take samples :30 apples\n",
        "sample mean xbar=145 grms\n",
        "sample sd=s=10grams\n",
        "sample size=n=30\n",
        "\n",
        "step 4:\n",
        "choose statistical test\n",
        "since the population sd is unknown and sample size is small(n<30),\n",
        "t-statistics formula:\n",
        "\n",
        "t=145-150/10/squarerrot of 30\n",
        "t=-5/1.825=-2.74\n",
        "\n",
        "step 5:\n",
        "determine the critical value\n",
        "t table=df=n-1=30-1=29 at alpha=0.05(two tailed test)the critical value +-2.045\n",
        "\n",
        "step 6:\n",
        "t value=-2.74\n",
        "critical value=+2.045 and -2.045\n",
        "since -2.74 is lessthan -2.045, it falls in the rejection region\n",
        "\n",
        "step 7\n",
        "make decision\n",
        "t test it is in the rejection region\n",
        "iam going with alternate hypothesis\n",
        "\n",
        "\n",
        "\n",
        "\n"
      ]
    },
    {
      "cell_type": "code",
      "source": [
        "z statistical test\n",
        "is used to determine wheather there is a significant difference between sample and population means or\n",
        "between two sample means when the population variance is known and the sample size is large (n>=30)\n"
      ],
      "metadata": {
        "id": "eJgmuVNohMLd"
      },
      "execution_count": null,
      "outputs": []
    },
    {
      "cell_type": "code",
      "source": [
        "step1-define hypothesis\n",
        "null hypothese:(h0)=the sample mean is equal to the population mean or there is no difference between 2 sample means\n",
        "alternate hypothesis=(h1)=the sample mean is different from the population mean or there is a differenc between two sample means"
      ],
      "metadata": {
        "id": "RNb24wjcikMq"
      },
      "execution_count": null,
      "outputs": []
    },
    {
      "cell_type": "code",
      "source": [
        "suppose a factory clsims that its lights bulbs last an average of 1000 hours (mu=1000).you collecet a sample of 50 bulbs\n",
        "and find an average life of 980 hourse with a standard devaiation\n",
        "of 50 hours.you want to test the claim is true at a 5% significance level (alpha=0.05)"
      ],
      "metadata": {
        "id": "5em_hiDYj7N_"
      },
      "execution_count": null,
      "outputs": []
    },
    {
      "cell_type": "code",
      "source": [
        "xbar=sample mean=980\n",
        "mu=1000(cliamed mean)\n",
        "alpha=sd=50\n",
        "n=50(sample size)\n",
        "z=xbar-mu/alpha/squarerot of n\n",
        "z=980-1000/50/squarerrot of 50=\n",
        "z=-20/50/7.07\n",
        "z=-2.83"
      ],
      "metadata": {
        "id": "sU-4zYuelyM6"
      },
      "execution_count": null,
      "outputs": []
    },
    {
      "cell_type": "code",
      "source": [
        "step\n",
        "two-tailed test(we check if the bulbs last more or less than 1000 hourse) we use z table  )\n",
        "for alpha =0.05 the critical value are +-1.96"
      ],
      "metadata": {
        "id": "WvAIfXNXpyRA"
      },
      "execution_count": null,
      "outputs": []
    }
  ]
}