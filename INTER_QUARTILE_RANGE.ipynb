{
  "nbformat": 4,
  "nbformat_minor": 0,
  "metadata": {
    "colab": {
      "provenance": []
    },
    "kernelspec": {
      "name": "python3",
      "display_name": "Python 3"
    },
    "language_info": {
      "name": "python"
    }
  },
  "cells": [
    {
      "cell_type": "code",
      "execution_count": null,
      "metadata": {
        "id": "9jBKWmSBkRox"
      },
      "outputs": [],
      "source": [
        "IQR=Q3-Q1\n",
        "1.Arrange the data in ascending order\n",
        "2.find q1-this is the median of the lower half 25th percentile\n",
        "3.q3-this is th emedian of the upper half 75th\n",
        "4.compute iqrq3-q1\n",
        "\n"
      ]
    },
    {
      "cell_type": "code",
      "source": [
        "{2,4,5,7,8,10,12,14,15,18}\n",
        "step1:2,3,5,7,8\n",
        "median=5\n"
      ],
      "metadata": {
        "id": "qzr2q9CuliTC"
      },
      "execution_count": null,
      "outputs": []
    },
    {
      "cell_type": "code",
      "source": [
        "step3:10,12,14,15,18\n",
        "median=14"
      ],
      "metadata": {
        "id": "eHd77gRrl2B8"
      },
      "execution_count": null,
      "outputs": []
    },
    {
      "cell_type": "code",
      "source": [
        "iqr=14-5=9"
      ],
      "metadata": {
        "id": "rHhoc5AkmBZa"
      },
      "execution_count": null,
      "outputs": []
    },
    {
      "cell_type": "code",
      "source": [
        "import numpy as np\n",
        "data=[2,4,5,7,8,10,12,14,15,18]"
      ],
      "metadata": {
        "id": "t32LKLODmEy-"
      },
      "execution_count": 1,
      "outputs": []
    },
    {
      "cell_type": "code",
      "source": [
        "q1=np.percentile(data,25)\n",
        "q1"
      ],
      "metadata": {
        "colab": {
          "base_uri": "https://localhost:8080/"
        },
        "id": "v46K1JgkmKEf",
        "outputId": "efb8124e-cd4d-4def-a1aa-511cfbb16e07"
      },
      "execution_count": 3,
      "outputs": [
        {
          "output_type": "execute_result",
          "data": {
            "text/plain": [
              "5.5"
            ]
          },
          "metadata": {},
          "execution_count": 3
        }
      ]
    },
    {
      "cell_type": "code",
      "source": [
        "q3=np.percentile(data,75)\n",
        "q3"
      ],
      "metadata": {
        "colab": {
          "base_uri": "https://localhost:8080/"
        },
        "id": "tkMTeIEQmRgl",
        "outputId": "55aa5eff-f600-4b3f-9808-117d143be46b"
      },
      "execution_count": 4,
      "outputs": [
        {
          "output_type": "execute_result",
          "data": {
            "text/plain": [
              "13.5"
            ]
          },
          "metadata": {},
          "execution_count": 4
        }
      ]
    },
    {
      "cell_type": "code",
      "source": [
        "iqr=q3-q1\n",
        "iqr"
      ],
      "metadata": {
        "colab": {
          "base_uri": "https://localhost:8080/"
        },
        "id": "MzxbC8lhmYRS",
        "outputId": "8e504095-4494-4eb7-a97e-41bb58dc134f"
      },
      "execution_count": 6,
      "outputs": [
        {
          "output_type": "execute_result",
          "data": {
            "text/plain": [
              "8.0"
            ]
          },
          "metadata": {},
          "execution_count": 6
        }
      ]
    },
    {
      "cell_type": "code",
      "source": [],
      "metadata": {
        "id": "ByjEvUx5mjSq"
      },
      "execution_count": null,
      "outputs": []
    }
  ]
}