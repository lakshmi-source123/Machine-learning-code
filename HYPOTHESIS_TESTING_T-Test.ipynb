{
  "nbformat": 4,
  "nbformat_minor": 0,
  "metadata": {
    "colab": {
      "provenance": []
    },
    "kernelspec": {
      "name": "python3",
      "display_name": "Python 3"
    },
    "language_info": {
      "name": "python"
    }
  },
  "cells": [
    {
      "cell_type": "code",
      "execution_count": null,
      "metadata": {
        "id": "QgVWDTs2b0mq"
      },
      "outputs": [],
      "source": [
        "1.NULL HYPOTHESIS(H0)\n",
        "\n",
        "NULL -\n",
        "a fruit company claims that the average weights of its apples is 150 grams you want to test if this claim is true\n",
        "\n",
        "step1=define the hypotheses\n",
        "null hypothesis(h0)=the avg weight of an apple is 150grms\n",
        "HO:MU=150\n",
        "ALTERNATE(H1):NOT EQUAL TO 150 GRAMS\n",
        "H1:MU != 150\n",
        "this is two tailed test since we are checking fpor a difference in both directions\n",
        "\n",
        "step2:\n",
        "choose a significant level(alpha)\n",
        "the significance level is the proability of rejecting H0 when it is actuall true\n",
        "common choices:0.05(5%)or 0.01(1%)\n",
        "we choose alpha=0.05\n",
        "\n",
        "step 3:\n",
        "collect a sample and calculate the sample mean\n",
        "take samples :30 apples\n",
        "sample mean xbar=145 grms\n",
        "sample sd=s=10grams\n",
        "sample size=n=30\n",
        "\n",
        "step 4:\n",
        "choose statistical test\n",
        "since the population sd is unknown and sample size is small(n<30),\n",
        "t-statistics formula:\n",
        "\n",
        "t=145-150/10/squarerrot of 30\n",
        "t=-5/1.825=-2.74\n",
        "\n",
        "step 5:\n",
        "determine the critical value\n",
        "t table=df=n-1=30-1=29 at alpha=0.05(two tailed test)the critical value +-2.045\n",
        "\n",
        "step 6:\n",
        "t value=-2.74\n",
        "critical value=+2.045 and -2.045\n",
        "since -2.74 is lessthan -2.045, it falls in the rejection region\n",
        "\n",
        "step 7\n",
        "make decision\n",
        "t test it is in the rejection region\n",
        "iam going with alternate hypothesis\n",
        "\n",
        "\n",
        "\n",
        "\n"
      ]
    }
  ]
}